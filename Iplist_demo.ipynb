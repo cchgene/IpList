{
 "cells": [
  {
   "cell_type": "code",
   "execution_count": 14,
   "metadata": {},
   "outputs": [],
   "source": [
    "import requests as r\n",
    "import random\n",
    "from bs4 import BeautifulSoup as bs\n",
    "\n",
    "\n",
    "def ipGet():\n",
    "    req = r.get(\"https://free-proxy-list.net/\")\n",
    "    resList = bs(req.text, \"lxml\").select_one(\".table-striped\").select(\"tbody tr\")\n",
    "    ipList = [resList[i].select(\"td\")[0].text + \":\" + resList[i].select(\"td\")[1].text\n",
    "              for i in range(len(resList))]\n",
    "    return {\"http\": \"http://\" + random.choice(ipList),\"https\": \"https://\" + random.choice(ipList)}"
   ]
  },
  {
   "cell_type": "code",
   "execution_count": 15,
   "metadata": {},
   "outputs": [
    {
     "data": {
      "text/plain": [
       "{'http': 'http://223.30.74.213:80', 'https': 'https://13.73.25.58:80'}"
      ]
     },
     "execution_count": 15,
     "metadata": {},
     "output_type": "execute_result"
    }
   ],
   "source": [
    "ipGet()"
   ]
  },
  {
   "cell_type": "markdown",
   "metadata": {},
   "source": [
    "url = 'www.google.com'\n",
    "proxies = ipGet()\n",
    "resp = r.get(url,proxies=proxies)\n",
    "會自動從ipGet裡面選取一個ip(可能是http | https)"
   ]
  }
 ],
 "metadata": {
  "kernelspec": {
   "display_name": "Python 3",
   "language": "python",
   "name": "python3"
  },
  "language_info": {
   "codemirror_mode": {
    "name": "ipython",
    "version": 3
   },
   "file_extension": ".py",
   "mimetype": "text/x-python",
   "name": "python",
   "nbconvert_exporter": "python",
   "pygments_lexer": "ipython3",
   "version": "3.6.1"
  }
 },
 "nbformat": 4,
 "nbformat_minor": 2
}
